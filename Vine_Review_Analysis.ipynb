{
  "nbformat": 4,
  "nbformat_minor": 0,
  "metadata": {
    "colab": {
      "name": "Vine_Review_Analysis.ipynb",
      "provenance": []
    },
    "kernelspec": {
      "name": "python3",
      "display_name": "Python 3"
    },
    "language_info": {
      "name": "python"
    }
  },
  "cells": [
    {
      "cell_type": "code",
      "execution_count": 1,
      "metadata": {
        "colab": {
          "base_uri": "https://localhost:8080/"
        },
        "id": "oHdjjkSSt_FD",
        "outputId": "94d53fcf-87e7-429b-813d-3b6aeb5d00db"
      },
      "outputs": [
        {
          "output_type": "stream",
          "name": "stdout",
          "text": [
            "\r0% [Working]\r            \rHit:1 http://ppa.launchpad.net/c2d4u.team/c2d4u4.0+/ubuntu bionic InRelease\n",
            "\r0% [Connecting to archive.ubuntu.com (91.189.91.38)] [Connecting to security.ub\r                                                                               \rGet:2 https://cloud.r-project.org/bin/linux/ubuntu bionic-cran40/ InRelease [3,626 B]\n",
            "\r                                                                               \rHit:3 http://ppa.launchpad.net/cran/libgit2/ubuntu bionic InRelease\n",
            "\r                                                                               \rHit:4 http://ppa.launchpad.net/deadsnakes/ppa/ubuntu bionic InRelease\n",
            "\r                                                                               \rHit:5 http://ppa.launchpad.net/graphics-drivers/ppa/ubuntu bionic InRelease\n",
            "Hit:6 https://developer.download.nvidia.com/compute/cuda/repos/ubuntu1804/x86_64  InRelease\n",
            "Get:7 http://security.ubuntu.com/ubuntu bionic-security InRelease [88.7 kB]\n",
            "Hit:8 http://archive.ubuntu.com/ubuntu bionic InRelease\n",
            "Get:9 http://archive.ubuntu.com/ubuntu bionic-updates InRelease [88.7 kB]\n",
            "Ign:10 https://developer.download.nvidia.com/compute/machine-learning/repos/ubuntu1804/x86_64  InRelease\n",
            "Hit:11 https://developer.download.nvidia.com/compute/machine-learning/repos/ubuntu1804/x86_64  Release\n",
            "Get:12 http://archive.ubuntu.com/ubuntu bionic-backports InRelease [74.6 kB]\n",
            "Get:14 http://security.ubuntu.com/ubuntu bionic-security/restricted amd64 Packages [1,013 kB]\n",
            "Get:15 http://archive.ubuntu.com/ubuntu bionic-updates/restricted amd64 Packages [1,047 kB]\n",
            "Get:16 http://security.ubuntu.com/ubuntu bionic-security/multiverse amd64 Packages [22.8 kB]\n",
            "Get:17 http://security.ubuntu.com/ubuntu bionic-security/universe amd64 Packages [1,521 kB]\n",
            "Get:18 http://security.ubuntu.com/ubuntu bionic-security/main amd64 Packages [2,866 kB]\n",
            "Get:19 http://archive.ubuntu.com/ubuntu bionic-updates/multiverse amd64 Packages [29.8 kB]\n",
            "Get:20 http://archive.ubuntu.com/ubuntu bionic-updates/main amd64 Packages [3,298 kB]\n",
            "Get:21 http://archive.ubuntu.com/ubuntu bionic-updates/universe amd64 Packages [2,297 kB]\n",
            "Get:22 http://archive.ubuntu.com/ubuntu bionic-backports/main amd64 Packages [12.2 kB]\n",
            "Fetched 12.4 MB in 5s (2,555 kB/s)\n",
            "Reading package lists... Done\n"
          ]
        }
      ],
      "source": [
        "import os\n",
        "# Find the latest version of spark 3.0 from http://www.apache.org/dist/spark/ and enter as the spark version\n",
        "# For example:\n",
        "# spark_version = 'spark-3.0.3'\n",
        "spark_version = 'spark-3.2.1'\n",
        "os.environ['SPARK_VERSION']=spark_version\n",
        "\n",
        "# Install Spark and Java\n",
        "!apt-get update\n",
        "!apt-get install openjdk-11-jdk-headless -qq > /dev/null\n",
        "!wget -q http://www.apache.org/dist/spark/$SPARK_VERSION/$SPARK_VERSION-bin-hadoop2.7.tgz\n",
        "!tar xf $SPARK_VERSION-bin-hadoop2.7.tgz\n",
        "!pip install -q findspark\n",
        "\n",
        "# Set Environment Variables\n",
        "import os\n",
        "os.environ[\"JAVA_HOME\"] = \"/usr/lib/jvm/java-11-openjdk-amd64\"\n",
        "os.environ[\"SPARK_HOME\"] = f\"/content/{spark_version}-bin-hadoop2.7\"\n",
        "\n",
        "# Start a SparkSession\n",
        "import findspark\n",
        "findspark.init()"
      ]
    },
    {
      "cell_type": "code",
      "source": [
        "# Download the Postgres driver that will allow Spark to interact with Postgres.\n",
        "!wget https://jdbc.postgresql.org/download/postgresql-42.2.16.jar"
      ],
      "metadata": {
        "colab": {
          "base_uri": "https://localhost:8080/"
        },
        "id": "hM1xNrWfuzBe",
        "outputId": "2b6b22cd-d96f-41d7-9c6b-7dc2373b72fc"
      },
      "execution_count": 2,
      "outputs": [
        {
          "output_type": "stream",
          "name": "stdout",
          "text": [
            "--2022-06-23 13:23:22--  https://jdbc.postgresql.org/download/postgresql-42.2.16.jar\n",
            "Resolving jdbc.postgresql.org (jdbc.postgresql.org)... 72.32.157.228, 2001:4800:3e1:1::228\n",
            "Connecting to jdbc.postgresql.org (jdbc.postgresql.org)|72.32.157.228|:443... connected.\n",
            "HTTP request sent, awaiting response... 200 OK\n",
            "Length: 1002883 (979K) [application/java-archive]\n",
            "Saving to: ‘postgresql-42.2.16.jar’\n",
            "\n",
            "postgresql-42.2.16. 100%[===================>] 979.38K  1.69MB/s    in 0.6s    \n",
            "\n",
            "2022-06-23 13:23:23 (1.69 MB/s) - ‘postgresql-42.2.16.jar’ saved [1002883/1002883]\n",
            "\n"
          ]
        }
      ]
    },
    {
      "cell_type": "code",
      "source": [
        "from pyspark.sql import SparkSession\n",
        "spark = SparkSession.builder.appName(\"M16-Amazon-Challenge-D2\").config(\"spark.driver.extraClassPath\",\"/content/postgresql-42.2.16.jar\").getOrCreate()"
      ],
      "metadata": {
        "id": "J5YaWhDtuzDc"
      },
      "execution_count": 5,
      "outputs": []
    },
    {
      "cell_type": "code",
      "source": [
        "from pyspark import SparkFiles\n",
        "url = \"https://s3.amazonaws.com/amazon-reviews-pds/tsv/amazon_reviews_us_Outdoors_v1_00.tsv.gz\"\n",
        "spark.sparkContext.addFile(url)\n",
        "df = spark.read.option(\"encoding\", \"UTF-8\").csv(SparkFiles.get(\"\"), sep=\"\\t\", header=True, inferSchema=True)\n",
        "df.show()"
      ],
      "metadata": {
        "colab": {
          "base_uri": "https://localhost:8080/"
        },
        "id": "MZRfZBjkuzFf",
        "outputId": "20a72bc9-5986-4845-857c-e6bb1ab437f6"
      },
      "execution_count": 6,
      "outputs": [
        {
          "output_type": "stream",
          "name": "stdout",
          "text": [
            "+-----------+-----------+--------------+----------+--------------+--------------------+----------------+-----------+-------------+-----------+----+-----------------+--------------------+--------------------+-----------+\n",
            "|marketplace|customer_id|     review_id|product_id|product_parent|       product_title|product_category|star_rating|helpful_votes|total_votes|vine|verified_purchase|     review_headline|         review_body|review_date|\n",
            "+-----------+-----------+--------------+----------+--------------+--------------------+----------------+-----------+-------------+-----------+----+-----------------+--------------------+--------------------+-----------+\n",
            "|         US|   18446823|R35T75OLUGHL5C|B000NV6H94|     110804376|Stearns Youth Boa...|        Outdoors|          4|            0|          0|   N|                Y|          Four Stars|          GOOD VALUE| 2015-08-31|\n",
            "|         US|   13724367|R2BV735O46BN33|B000IN0W3Y|     624096774|Primal Wear Men's...|        Outdoors|          5|            0|          0|   N|                Y|          Five Stars|  Excellent quality.| 2015-08-31|\n",
            "|         US|   51001958|R2NBEUGPQQGXP1|B008RBJXFM|     278970944|Osprey Hydraulics...|        Outdoors|          4|            0|          0|   N|                Y|Only Flaw Is The Cap|3rd season using ...| 2015-08-31|\n",
            "|         US|   32866903|R17LLAOJ8ITK0S|B00FK8WUQY|     312877650|CamelBak eddy .75...|        Outdoors|          3|            1|          1|   N|                Y|Poor design leads...|poor construction...| 2015-08-31|\n",
            "|         US|   30907790|R39PEQBT5ISEF4|B00EZA3VW0|     305567912|Children Black Re...|        Outdoors|          1|            0|          0|   N|                Y|Very bad quality,...|Very bad quality,...| 2015-08-31|\n",
            "|         US|   20232229|R3GNM3SU9VHJFT|B006JA8WEG|     842306035|Ibera Bicycle Tri...|        Outdoors|          4|            1|          1|   N|                Y|Nice bag. Should ...|Nice bag. Should ...| 2015-08-31|\n",
            "|         US|   17698862| R2Y81OP0EK467|B002PWFSEO|     451480122|Therm-a-Rest Comp...|        Outdoors|          5|            0|          0|   N|                Y|Very comfortable ...|Gave this to my s...| 2015-08-31|\n",
            "|         US|   38486114|R2LFGSI6HAYH5F|B002DZGKHW|     124386306|Sawyer Products P...|        Outdoors|          5|            1|          1|   N|                Y| Worked like a charm|Went on vacation ...| 2015-08-31|\n",
            "|         US|   26319572|R297G6ED1IQO7W|B00ABA08F6|     991442421|Zippo Hand Warmer...|        Outdoors|          5|            1|          1|   N|                Y|Great item. Gets ...|Great item. Gets ...| 2015-08-31|\n",
            "|         US|   27152337| RE27RFC6101N6|B003Z8WIHC|     886483892|Camp Chef Dutch O...|        Outdoors|          5|            0|          0|   N|                Y|Great value for t...|I am so glad I bo...| 2015-08-31|\n",
            "|         US|   12516845|R3BPDME6E94W8Z|B007CP6UK0|     150224054|3CERA Portable Wi...|        Outdoors|          5|            0|          0|   N|                Y|          Five Stars|        good to have| 2015-08-31|\n",
            "|         US|    3225242|R2P08O1RILUOX3|B003V3U9JK|     343847969|Texsport King Kot...|        Outdoors|          3|            0|          0|   N|                Y|Cot set up inconv...|VERY difficult to...| 2015-08-31|\n",
            "|         US|     961839|R37CVAB03PTDVI|B00Y846HN8|     858088629|Wallygadgets 2 Wh...|        Outdoors|          5|            0|          1|   N|                Y|          Five Stars|Thanks excellent ...| 2015-08-31|\n",
            "|         US|   47796452| RAWNWOGXPCPMD|B00IYQ84VY|     474493517|RainStoppers 34-I...|        Outdoors|          5|            0|          0|   N|                Y|          Five Stars|This umbrella is ...| 2015-08-31|\n",
            "|         US|   32004835| R5DYGP6ASX77M|B002MYCKLY|     920014456|Alpha Deluxe Port...|        Outdoors|          5|            0|          0|   N|                Y|          Five Stars|Love it !! I even...| 2015-08-31|\n",
            "|         US|   23972939|R1O0SAOOGF2KG7|B00EZV69JG|     128489321|Speedfil Z4 BTA B...|        Outdoors|          4|            0|          0|   N|                Y|        Good enough.|This is a fine mo...| 2015-08-31|\n",
            "|         US|   40889047|R35NJUT0U3MU3V|B00AWOT3T8|     571303876|O'Brien Kids Plat...|        Outdoors|          5|            0|          0|   N|                Y| Got Up on First Try|We just bought th...| 2015-08-31|\n",
            "|         US|   11244387|R242C08MF9D1AH|B0000AXTID|     739769424|Kwik-Tek F-5R Pla...|        Outdoors|          5|            0|          0|   N|                Y|They go over an a...|I have these on m...| 2015-08-31|\n",
            "|         US|   20121211| R3RYG8TJTO4E2|B00IFHFJXI|     984009972|Ivation Portable ...|        Outdoors|          5|            0|          0|   N|                Y|Greatest Item I b...|This is the best ...| 2015-08-31|\n",
            "|         US|   25657249|R3IKH1DNY0CP9F|B00KFILTWU|     405521681|GreenInsync Repla...|        Outdoors|          2|            0|          0|   N|                Y|I received this p...|I received this p...| 2015-08-31|\n",
            "+-----------+-----------+--------------+----------+--------------+--------------------+----------------+-----------+-------------+-----------+----+-----------------+--------------------+--------------------+-----------+\n",
            "only showing top 20 rows\n",
            "\n"
          ]
        }
      ]
    },
    {
      "cell_type": "code",
      "source": [
        "#Create Vine DF \n",
        "vine_df = df.select([\"review_id\",\"star_rating\",\"helpful_votes\",\"total_votes\",\"vine\",\"verified_purchase\"])\n",
        "vine_df.show()"
      ],
      "metadata": {
        "colab": {
          "base_uri": "https://localhost:8080/"
        },
        "id": "vj5PEVROuzHx",
        "outputId": "3ca2af47-b642-4224-9d90-0d71d5f87a0b"
      },
      "execution_count": 27,
      "outputs": [
        {
          "output_type": "stream",
          "name": "stdout",
          "text": [
            "+--------------+-----------+-------------+-----------+----+-----------------+\n",
            "|     review_id|star_rating|helpful_votes|total_votes|vine|verified_purchase|\n",
            "+--------------+-----------+-------------+-----------+----+-----------------+\n",
            "|R35T75OLUGHL5C|          4|            0|          0|   N|                Y|\n",
            "|R2BV735O46BN33|          5|            0|          0|   N|                Y|\n",
            "|R2NBEUGPQQGXP1|          4|            0|          0|   N|                Y|\n",
            "|R17LLAOJ8ITK0S|          3|            1|          1|   N|                Y|\n",
            "|R39PEQBT5ISEF4|          1|            0|          0|   N|                Y|\n",
            "|R3GNM3SU9VHJFT|          4|            1|          1|   N|                Y|\n",
            "| R2Y81OP0EK467|          5|            0|          0|   N|                Y|\n",
            "|R2LFGSI6HAYH5F|          5|            1|          1|   N|                Y|\n",
            "|R297G6ED1IQO7W|          5|            1|          1|   N|                Y|\n",
            "| RE27RFC6101N6|          5|            0|          0|   N|                Y|\n",
            "|R3BPDME6E94W8Z|          5|            0|          0|   N|                Y|\n",
            "|R2P08O1RILUOX3|          3|            0|          0|   N|                Y|\n",
            "|R37CVAB03PTDVI|          5|            0|          1|   N|                Y|\n",
            "| RAWNWOGXPCPMD|          5|            0|          0|   N|                Y|\n",
            "| R5DYGP6ASX77M|          5|            0|          0|   N|                Y|\n",
            "|R1O0SAOOGF2KG7|          4|            0|          0|   N|                Y|\n",
            "|R35NJUT0U3MU3V|          5|            0|          0|   N|                Y|\n",
            "|R242C08MF9D1AH|          5|            0|          0|   N|                Y|\n",
            "| R3RYG8TJTO4E2|          5|            0|          0|   N|                Y|\n",
            "|R3IKH1DNY0CP9F|          2|            0|          0|   N|                Y|\n",
            "+--------------+-----------+-------------+-----------+----+-----------------+\n",
            "only showing top 20 rows\n",
            "\n"
          ]
        }
      ]
    },
    {
      "cell_type": "code",
      "source": [
        "filtered1 = vine_df.filter(\"total_votes >=20\")"
      ],
      "metadata": {
        "id": "vQ5eim7QuzKJ"
      },
      "execution_count": 37,
      "outputs": []
    },
    {
      "cell_type": "code",
      "source": [
        "filtered1.show()"
      ],
      "metadata": {
        "colab": {
          "base_uri": "https://localhost:8080/"
        },
        "id": "L6lBXK95uzMe",
        "outputId": "170f23ef-536e-4940-8699-8acc90f8dad0"
      },
      "execution_count": 38,
      "outputs": [
        {
          "output_type": "stream",
          "name": "stdout",
          "text": [
            "+--------------+-----------+-------------+-----------+----+-----------------+\n",
            "|     review_id|star_rating|helpful_votes|total_votes|vine|verified_purchase|\n",
            "+--------------+-----------+-------------+-----------+----+-----------------+\n",
            "|R2FP3U4NHNFNL2|          5|           25|         29|   N|                Y|\n",
            "|R1UUK1977O38MU|          5|           31|         31|   N|                Y|\n",
            "| RXO216LWUDV6O|          3|           29|         31|   N|                Y|\n",
            "|R3NMJF7EBMM19V|          3|           26|         27|   N|                Y|\n",
            "|R2ZY0ZBDUO0XUY|          3|           20|         21|   N|                Y|\n",
            "| RBDVHX7PMQEKM|          5|           35|         39|   N|                Y|\n",
            "| RGO3KSDXYWTGU|          4|           26|         26|   N|                Y|\n",
            "|R2O4P39D0ALCQK|          2|           14|         43|   N|                Y|\n",
            "|R1E1PQGHWGO3Q1|          1|           89|         96|   N|                Y|\n",
            "|R1XOXXUVYZEDJB|          5|           22|         22|   N|                Y|\n",
            "| R7SHITUU5UG9U|          5|           27|         27|   N|                Y|\n",
            "|R230TLHU91M5Y3|          4|           21|         21|   N|                Y|\n",
            "| RHR5MKO23K9TU|          5|           26|         30|   N|                Y|\n",
            "|R1HGK3TCY161D7|          5|           52|         55|   N|                N|\n",
            "|R340QYAVNZZHJA|          4|           25|         25|   N|                N|\n",
            "|R2F1UVQK0JL4QH|          3|           20|         20|   N|                Y|\n",
            "|R1N21UY546VWMN|          2|           48|         50|   N|                Y|\n",
            "|R1E4L344EK0ZOT|          5|           20|         26|   N|                N|\n",
            "|R282QUZDDJW3ON|          4|           45|         49|   N|                Y|\n",
            "|R3H5T3T7QY3ZL2|          5|          247|        263|   N|                Y|\n",
            "+--------------+-----------+-------------+-----------+----+-----------------+\n",
            "only showing top 20 rows\n",
            "\n"
          ]
        }
      ]
    },
    {
      "cell_type": "code",
      "source": [
        "filtered2 = filtered1.withColumn(\"fiftyandabove\", (filtered1[\"helpful_votes\"] / filtered1[\"total_votes\"]) >= 0.5)"
      ],
      "metadata": {
        "id": "ejjM80lLuzPM"
      },
      "execution_count": 56,
      "outputs": []
    },
    {
      "cell_type": "code",
      "source": [
        "filtered2.show()"
      ],
      "metadata": {
        "colab": {
          "base_uri": "https://localhost:8080/"
        },
        "id": "FgQ4g5y9uzRY",
        "outputId": "1d46e805-6278-4dc7-f1a1-841106e74c04"
      },
      "execution_count": 57,
      "outputs": [
        {
          "output_type": "stream",
          "name": "stdout",
          "text": [
            "+--------------+-----------+-------------+-----------+----+-----------------+-------------+\n",
            "|     review_id|star_rating|helpful_votes|total_votes|vine|verified_purchase|fiftyandabove|\n",
            "+--------------+-----------+-------------+-----------+----+-----------------+-------------+\n",
            "|R2FP3U4NHNFNL2|          5|           25|         29|   N|                Y|         true|\n",
            "|R1UUK1977O38MU|          5|           31|         31|   N|                Y|         true|\n",
            "| RXO216LWUDV6O|          3|           29|         31|   N|                Y|         true|\n",
            "|R3NMJF7EBMM19V|          3|           26|         27|   N|                Y|         true|\n",
            "|R2ZY0ZBDUO0XUY|          3|           20|         21|   N|                Y|         true|\n",
            "| RBDVHX7PMQEKM|          5|           35|         39|   N|                Y|         true|\n",
            "| RGO3KSDXYWTGU|          4|           26|         26|   N|                Y|         true|\n",
            "|R2O4P39D0ALCQK|          2|           14|         43|   N|                Y|        false|\n",
            "|R1E1PQGHWGO3Q1|          1|           89|         96|   N|                Y|         true|\n",
            "|R1XOXXUVYZEDJB|          5|           22|         22|   N|                Y|         true|\n",
            "| R7SHITUU5UG9U|          5|           27|         27|   N|                Y|         true|\n",
            "|R230TLHU91M5Y3|          4|           21|         21|   N|                Y|         true|\n",
            "| RHR5MKO23K9TU|          5|           26|         30|   N|                Y|         true|\n",
            "|R1HGK3TCY161D7|          5|           52|         55|   N|                N|         true|\n",
            "|R340QYAVNZZHJA|          4|           25|         25|   N|                N|         true|\n",
            "|R2F1UVQK0JL4QH|          3|           20|         20|   N|                Y|         true|\n",
            "|R1N21UY546VWMN|          2|           48|         50|   N|                Y|         true|\n",
            "|R1E4L344EK0ZOT|          5|           20|         26|   N|                N|         true|\n",
            "|R282QUZDDJW3ON|          4|           45|         49|   N|                Y|         true|\n",
            "|R3H5T3T7QY3ZL2|          5|          247|        263|   N|                Y|         true|\n",
            "+--------------+-----------+-------------+-----------+----+-----------------+-------------+\n",
            "only showing top 20 rows\n",
            "\n"
          ]
        }
      ]
    },
    {
      "cell_type": "code",
      "source": [
        "filtered2=filtered2.filter(\"fiftyandabove == true\")\n"
      ],
      "metadata": {
        "id": "PC71omMMuzUI"
      },
      "execution_count": 61,
      "outputs": []
    },
    {
      "cell_type": "code",
      "source": [
        "filtered2.show()"
      ],
      "metadata": {
        "colab": {
          "base_uri": "https://localhost:8080/"
        },
        "id": "etZjwNNduzWi",
        "outputId": "e81e9da7-d3f4-4952-fb91-4d87da0ece4a"
      },
      "execution_count": 62,
      "outputs": [
        {
          "output_type": "stream",
          "name": "stdout",
          "text": [
            "+--------------+-----------+-------------+-----------+----+-----------------+-------------+\n",
            "|     review_id|star_rating|helpful_votes|total_votes|vine|verified_purchase|fiftyandabove|\n",
            "+--------------+-----------+-------------+-----------+----+-----------------+-------------+\n",
            "|R2FP3U4NHNFNL2|          5|           25|         29|   N|                Y|         true|\n",
            "|R1UUK1977O38MU|          5|           31|         31|   N|                Y|         true|\n",
            "| RXO216LWUDV6O|          3|           29|         31|   N|                Y|         true|\n",
            "|R3NMJF7EBMM19V|          3|           26|         27|   N|                Y|         true|\n",
            "|R2ZY0ZBDUO0XUY|          3|           20|         21|   N|                Y|         true|\n",
            "| RBDVHX7PMQEKM|          5|           35|         39|   N|                Y|         true|\n",
            "| RGO3KSDXYWTGU|          4|           26|         26|   N|                Y|         true|\n",
            "|R1E1PQGHWGO3Q1|          1|           89|         96|   N|                Y|         true|\n",
            "|R1XOXXUVYZEDJB|          5|           22|         22|   N|                Y|         true|\n",
            "| R7SHITUU5UG9U|          5|           27|         27|   N|                Y|         true|\n",
            "|R230TLHU91M5Y3|          4|           21|         21|   N|                Y|         true|\n",
            "| RHR5MKO23K9TU|          5|           26|         30|   N|                Y|         true|\n",
            "|R1HGK3TCY161D7|          5|           52|         55|   N|                N|         true|\n",
            "|R340QYAVNZZHJA|          4|           25|         25|   N|                N|         true|\n",
            "|R2F1UVQK0JL4QH|          3|           20|         20|   N|                Y|         true|\n",
            "|R1N21UY546VWMN|          2|           48|         50|   N|                Y|         true|\n",
            "|R1E4L344EK0ZOT|          5|           20|         26|   N|                N|         true|\n",
            "|R282QUZDDJW3ON|          4|           45|         49|   N|                Y|         true|\n",
            "|R3H5T3T7QY3ZL2|          5|          247|        263|   N|                Y|         true|\n",
            "|R3W1A1P95IIGHX|          5|           23|         25|   N|                N|         true|\n",
            "+--------------+-----------+-------------+-----------+----+-----------------+-------------+\n",
            "only showing top 20 rows\n",
            "\n"
          ]
        }
      ]
    },
    {
      "cell_type": "code",
      "source": [
        "filtered3 = filtered2.filter(filtered2[\"vine\"] == \"Y\")\n",
        "filtered3.show()"
      ],
      "metadata": {
        "colab": {
          "base_uri": "https://localhost:8080/"
        },
        "id": "emAwKvFpuzYq",
        "outputId": "2c349342-5a1e-4b20-9406-567311779d7f"
      },
      "execution_count": 85,
      "outputs": [
        {
          "output_type": "stream",
          "name": "stdout",
          "text": [
            "+--------------+-----------+-------------+-----------+----+-----------------+-------------+\n",
            "|     review_id|star_rating|helpful_votes|total_votes|vine|verified_purchase|fiftyandabove|\n",
            "+--------------+-----------+-------------+-----------+----+-----------------+-------------+\n",
            "|R3KPC0NBUDASX3|          5|           25|         25|   Y|                N|         true|\n",
            "|R119P2A95GGXX4|          5|           26|         28|   Y|                N|         true|\n",
            "|R1HKIRME8AJ89Z|          5|           79|         82|   Y|                N|         true|\n",
            "|R3FY3GMBGOBR22|          5|           12|         20|   Y|                N|         true|\n",
            "|R15KH3FBSVYGBU|          5|           32|         37|   Y|                N|         true|\n",
            "|R22XZEQLVLWW49|          5|           28|         33|   Y|                N|         true|\n",
            "|R2OIQYVAL9D63R|          4|           59|         65|   Y|                N|         true|\n",
            "|R1W3KCDHM6BMZT|          4|           37|         38|   Y|                N|         true|\n",
            "|R3KDMPS96IJ10R|          2|           15|         21|   Y|                N|         true|\n",
            "|R1XWEI58A7VKLB|          5|          123|        128|   Y|                N|         true|\n",
            "|R1CJWM6CMWKSA1|          4|           31|         33|   Y|                N|         true|\n",
            "|R39I3FUDBKZM3Y|          5|           34|         38|   Y|                N|         true|\n",
            "|R32LU0KSL7QWSF|          5|           35|         37|   Y|                N|         true|\n",
            "|R2LGDXO3MG2WQW|          5|           37|         41|   Y|                N|         true|\n",
            "|R16AVI2NTYWLKI|          5|           31|         33|   Y|                N|         true|\n",
            "|R12K0ITIV6AYM3|          5|           34|         34|   Y|                N|         true|\n",
            "| R9ILZLNNK93CO|          5|           38|         39|   Y|                N|         true|\n",
            "|R1CS8VSI1KSR1P|          5|           21|         22|   Y|                N|         true|\n",
            "|R186TCIH8TEGPY|          5|           40|         43|   Y|                N|         true|\n",
            "| R3GBQRR2GY4SP|          4|          119|        125|   Y|                N|         true|\n",
            "+--------------+-----------+-------------+-----------+----+-----------------+-------------+\n",
            "only showing top 20 rows\n",
            "\n"
          ]
        }
      ]
    },
    {
      "cell_type": "code",
      "source": [
        "filtered4 = filtered2.filter(filtered2[\"vine\"] == \"N\")\n",
        "filtered4.show()"
      ],
      "metadata": {
        "colab": {
          "base_uri": "https://localhost:8080/"
        },
        "id": "gUnPzlJ5JzsX",
        "outputId": "3d009f5a-99ad-496d-8466-58f7b03e2484"
      },
      "execution_count": 86,
      "outputs": [
        {
          "output_type": "stream",
          "name": "stdout",
          "text": [
            "+--------------+-----------+-------------+-----------+----+-----------------+-------------+\n",
            "|     review_id|star_rating|helpful_votes|total_votes|vine|verified_purchase|fiftyandabove|\n",
            "+--------------+-----------+-------------+-----------+----+-----------------+-------------+\n",
            "|R2FP3U4NHNFNL2|          5|           25|         29|   N|                Y|         true|\n",
            "|R1UUK1977O38MU|          5|           31|         31|   N|                Y|         true|\n",
            "| RXO216LWUDV6O|          3|           29|         31|   N|                Y|         true|\n",
            "|R3NMJF7EBMM19V|          3|           26|         27|   N|                Y|         true|\n",
            "|R2ZY0ZBDUO0XUY|          3|           20|         21|   N|                Y|         true|\n",
            "| RBDVHX7PMQEKM|          5|           35|         39|   N|                Y|         true|\n",
            "| RGO3KSDXYWTGU|          4|           26|         26|   N|                Y|         true|\n",
            "|R1E1PQGHWGO3Q1|          1|           89|         96|   N|                Y|         true|\n",
            "|R1XOXXUVYZEDJB|          5|           22|         22|   N|                Y|         true|\n",
            "| R7SHITUU5UG9U|          5|           27|         27|   N|                Y|         true|\n",
            "|R230TLHU91M5Y3|          4|           21|         21|   N|                Y|         true|\n",
            "| RHR5MKO23K9TU|          5|           26|         30|   N|                Y|         true|\n",
            "|R1HGK3TCY161D7|          5|           52|         55|   N|                N|         true|\n",
            "|R340QYAVNZZHJA|          4|           25|         25|   N|                N|         true|\n",
            "|R2F1UVQK0JL4QH|          3|           20|         20|   N|                Y|         true|\n",
            "|R1N21UY546VWMN|          2|           48|         50|   N|                Y|         true|\n",
            "|R1E4L344EK0ZOT|          5|           20|         26|   N|                N|         true|\n",
            "|R282QUZDDJW3ON|          4|           45|         49|   N|                Y|         true|\n",
            "|R3H5T3T7QY3ZL2|          5|          247|        263|   N|                Y|         true|\n",
            "|R3W1A1P95IIGHX|          5|           23|         25|   N|                N|         true|\n",
            "+--------------+-----------+-------------+-----------+----+-----------------+-------------+\n",
            "only showing top 20 rows\n",
            "\n"
          ]
        }
      ]
    },
    {
      "cell_type": "code",
      "source": [
        "review_sum_vine = filtered3.select(\"review_id\").count()\n",
        "review_sum_vine"
      ],
      "metadata": {
        "colab": {
          "base_uri": "https://localhost:8080/"
        },
        "id": "abaXvFl9uzbT",
        "outputId": "94d133a0-21ba-4cbe-f32b-cbfc2f6045a2"
      },
      "execution_count": 90,
      "outputs": [
        {
          "output_type": "execute_result",
          "data": {
            "text/plain": [
              "107"
            ]
          },
          "metadata": {},
          "execution_count": 90
        }
      ]
    },
    {
      "cell_type": "code",
      "source": [
        "five_star_vine = filtered3.filter(\"star_rating == 5\").count()\n",
        "five_star_vine\n"
      ],
      "metadata": {
        "colab": {
          "base_uri": "https://localhost:8080/"
        },
        "id": "RmEDJ1Snuzg2",
        "outputId": "8dc52d57-401e-4f36-ff9f-9960ace421e6"
      },
      "execution_count": 94,
      "outputs": [
        {
          "output_type": "execute_result",
          "data": {
            "text/plain": [
              "56"
            ]
          },
          "metadata": {},
          "execution_count": 94
        }
      ]
    },
    {
      "cell_type": "code",
      "source": [
        "ratio_vine = (five_star_vine / review_sum_vine) * 100\n",
        "ratio_vine"
      ],
      "metadata": {
        "colab": {
          "base_uri": "https://localhost:8080/"
        },
        "id": "TV08tnb4PnE6",
        "outputId": "3f3a9552-631f-4e1c-8d9e-354dc3f37a4a"
      },
      "execution_count": 96,
      "outputs": [
        {
          "output_type": "execute_result",
          "data": {
            "text/plain": [
              "52.336448598130836"
            ]
          },
          "metadata": {},
          "execution_count": 96
        }
      ]
    },
    {
      "cell_type": "code",
      "source": [
        "review_sum_nonVine  = filtered4.select(\"review_id\").count()\n",
        "review_sum_nonVine"
      ],
      "metadata": {
        "colab": {
          "base_uri": "https://localhost:8080/"
        },
        "id": "tLOPTZ8uPnHr",
        "outputId": "fdca9a91-b598-4678-c890-d9d71a99f3fa"
      },
      "execution_count": 97,
      "outputs": [
        {
          "output_type": "execute_result",
          "data": {
            "text/plain": [
              "39869"
            ]
          },
          "metadata": {},
          "execution_count": 97
        }
      ]
    },
    {
      "cell_type": "code",
      "source": [
        "five_star_noneVine = filtered4.filter(\"star_rating == 5\").count()\n",
        "five_star_noneVine"
      ],
      "metadata": {
        "colab": {
          "base_uri": "https://localhost:8080/"
        },
        "id": "rV4Ex2icPnK-",
        "outputId": "fb53448d-c798-498b-f0f0-be8f842972f8"
      },
      "execution_count": 98,
      "outputs": [
        {
          "output_type": "execute_result",
          "data": {
            "text/plain": [
              "21005"
            ]
          },
          "metadata": {},
          "execution_count": 98
        }
      ]
    },
    {
      "cell_type": "code",
      "source": [
        "ratio_nonVine = (five_star_noneVine / review_sum_nonVine) * 100\n",
        "ratio_nonVine"
      ],
      "metadata": {
        "colab": {
          "base_uri": "https://localhost:8080/"
        },
        "id": "GHZWTt5mPnNp",
        "outputId": "bd731d47-1d29-4f74-f721-0515c390fb0e"
      },
      "execution_count": 99,
      "outputs": [
        {
          "output_type": "execute_result",
          "data": {
            "text/plain": [
              "52.68504351751988"
            ]
          },
          "metadata": {},
          "execution_count": 99
        }
      ]
    },
    {
      "cell_type": "code",
      "source": [
        ""
      ],
      "metadata": {
        "id": "-q6mlfp6PnPw"
      },
      "execution_count": null,
      "outputs": []
    },
    {
      "cell_type": "code",
      "source": [
        ""
      ],
      "metadata": {
        "id": "8OtJYkMjuzj-"
      },
      "execution_count": null,
      "outputs": []
    },
    {
      "cell_type": "code",
      "source": [
        ""
      ],
      "metadata": {
        "id": "m6D_0xOjuzmf"
      },
      "execution_count": null,
      "outputs": []
    },
    {
      "cell_type": "code",
      "source": [
        ""
      ],
      "metadata": {
        "id": "84N6f1D_uzoF"
      },
      "execution_count": null,
      "outputs": []
    },
    {
      "cell_type": "code",
      "source": [
        ""
      ],
      "metadata": {
        "id": "y1PuxJvnuzp1"
      },
      "execution_count": null,
      "outputs": []
    },
    {
      "cell_type": "code",
      "source": [
        ""
      ],
      "metadata": {
        "id": "J838XvJouzr_"
      },
      "execution_count": null,
      "outputs": []
    },
    {
      "cell_type": "code",
      "source": [
        ""
      ],
      "metadata": {
        "id": "p2ZRbHvWuzt_"
      },
      "execution_count": null,
      "outputs": []
    },
    {
      "cell_type": "code",
      "source": [
        ""
      ],
      "metadata": {
        "id": "DTV4wwO1uzvt"
      },
      "execution_count": null,
      "outputs": []
    }
  ]
}